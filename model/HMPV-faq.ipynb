{
 "cells": [
  {
   "cell_type": "code",
   "execution_count": 1,
   "metadata": {},
   "outputs": [
    {
     "data": {
      "text/plain": [
       "True"
      ]
     },
     "execution_count": 1,
     "metadata": {},
     "output_type": "execute_result"
    }
   ],
   "source": [
    "import os\n",
    "from dotenv import load_dotenv\n",
    "load_dotenv()"
   ]
  },
  {
   "cell_type": "code",
   "execution_count": 2,
   "metadata": {},
   "outputs": [],
   "source": [
    "os.environ[\"OPENAI_API_KEY\"]= os.getenv(\"OPENAI_API_KEY\")"
   ]
  },
  {
   "cell_type": "code",
   "execution_count": 3,
   "metadata": {},
   "outputs": [],
   "source": [
    "from openai import OpenAI"
   ]
  },
  {
   "cell_type": "code",
   "execution_count": 4,
   "metadata": {},
   "outputs": [],
   "source": [
    "client = OpenAI()"
   ]
  },
  {
   "cell_type": "code",
   "execution_count": 5,
   "metadata": {},
   "outputs": [
    {
     "data": {
      "text/plain": [
       "'Common symptoms of HMPV include cough, fever, wheezing, breathlessness, nasal congestion, and sore throat.'"
      ]
     },
     "execution_count": 5,
     "metadata": {},
     "output_type": "execute_result"
    }
   ],
   "source": [
    "HMPV_chat = client.chat.completions.create(\n",
    "    model=\"ft:gpt-3.5-turbo-0125:ceefor-analytics-hub:hmpv-chatbox:BEyqJyv0\",\n",
    "    messages=[\n",
    "        {\"role\": \"system\", \"content\": \"This is a chat box that gives information about Human metapneumovirus\"},\n",
    "        {\"role\": \"user\", \"content\": \"what are the symptoms?\"}\n",
    "    ]\n",
    ")\n",
    "\n",
    "# Print AI response\n",
    "HMPV_chat.choices[0].message.content"
   ]
  },
  {
   "cell_type": "code",
   "execution_count": 6,
   "metadata": {},
   "outputs": [],
   "source": [
    "# Create a fuction to get response from the HMPV chat\n",
    "\n",
    "def get_hmpv_chat_response(user_input):\n",
    "    response = client.chat.completions.create(\n",
    "        model=\"ft:gpt-3.5-turbo-0125:ceefor-analytics-hub:hmpv-chatbox:BEyqJyv0\",\n",
    "        messages=[\n",
    "            {\"role\": \"user\", \"content\": user_input},\n",
    "            {\"role\": \"assistant\", \"content\": HMPV_chat.choices[0].message.content}\n",
    "        ]\n",
    "    )\n",
    "    return response.choices[0].message.content"
   ]
  },
  {
   "cell_type": "code",
   "execution_count": 7,
   "metadata": {},
   "outputs": [
    {
     "name": "stdout",
     "output_type": "stream",
     "text": [
      "HMPV, or human metapneumovirus, is a respiratory virus that causes symptoms similar to the flu or a cold. It is highly contagious and can spread easily through respiratory secretions.\n"
     ]
    }
   ],
   "source": [
    "user_input = \"Define HMPV in two sentences?\"\n",
    "answer = get_hmpv_chat_response(user_input)\n",
    "print (answer)"
   ]
  }
 ],
 "metadata": {
  "kernelspec": {
   "display_name": "Python 3",
   "language": "python",
   "name": "python3"
  },
  "language_info": {
   "codemirror_mode": {
    "name": "ipython",
    "version": 3
   },
   "file_extension": ".py",
   "mimetype": "text/x-python",
   "name": "python",
   "nbconvert_exporter": "python",
   "pygments_lexer": "ipython3",
   "version": "3.13.2"
  }
 },
 "nbformat": 4,
 "nbformat_minor": 2
}
